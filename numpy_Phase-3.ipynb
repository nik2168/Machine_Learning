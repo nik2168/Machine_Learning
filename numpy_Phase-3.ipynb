{
 "cells": [
  {
   "cell_type": "markdown",
   "id": "59889553",
   "metadata": {},
   "source": [
    "## Advance operation with Business examples"
   ]
  },
  {
   "cell_type": "code",
   "execution_count": 5,
   "id": "1e6f66ac",
   "metadata": {},
   "outputs": [
    {
     "name": "stderr",
     "output_type": "stream",
     "text": [
      "Matplotlib is building the font cache; this may take a moment.\n"
     ]
    }
   ],
   "source": [
    "import numpy as np\n",
    "import matplotlib.pyplot as plt"
   ]
  },
  {
   "cell_type": "code",
   "execution_count": 10,
   "id": "b6464b65",
   "metadata": {},
   "outputs": [
    {
     "name": "stdout",
     "output_type": "stream",
     "text": [
      "=== Nox Cart sales analysis ===\n",
      "shape: (5, 5)\n",
      "first three restaturants: \n",
      " [[     1 150000 180000 220000 250000]\n",
      " [     2 120000  14000 160000 180000]\n",
      " [     3 100000 110000 120000 130000]]\n",
      "only last 3 year sales of first 3 restaurants : \n",
      " [[180000 220000 250000]\n",
      " [ 14000 160000 180000]\n",
      " [110000 120000 130000]\n",
      " [ 90000 100000 110000]\n",
      " [ 70000  80000  90000]]\n"
     ]
    }
   ],
   "source": [
    "# Data structure: [restaurant_id, 2021, 2022, 2023, 2024]\n",
    "\n",
    "sales_data = np.array([\n",
    "    [1, 150000, 180000, 220000, 250000], # Paradise\n",
    "    [2, 120000, 14000, 160000, 180000], # Pizza Hut\n",
    "    [3, 100000, 110000, 120000, 130000], # KFC\n",
    "    [4, 80000, 90000, 100000, 110000], # Burger King\n",
    "    [5, 60000, 70000, 80000, 90000], # McDonald\n",
    "])\n",
    "\n",
    "print('=== Nox Cart sales analysis ===')\n",
    "print('shape:', sales_data.shape)\n",
    "print(\"first three restaturants: \\n\", sales_data[0:3]) # selects 0-2 row and all col\n",
    "print(\"only last 3 year sales of first 3 restaurants : \\n\", sales_data[:, 2:])  # [selects all row, select cols after first 2]\n"
   ]
  },
  {
   "cell_type": "code",
   "execution_count": null,
   "id": "083d4956",
   "metadata": {},
   "outputs": [
    {
     "name": "stdout",
     "output_type": "stream",
     "text": [
      "total sales per year :  2414000\n"
     ]
    }
   ],
   "source": [
    "# total sales per year\n",
    "sum = np.sum(sales_data[:, 1:], axis=1)  # restaturants yearly total\n",
    "\n",
    "print(\"total sales per year : \", np.sum(sum, axis=0)) # complete sales total from all restaurants ...\n",
    "\n"
   ]
  },
  {
   "cell_type": "code",
   "execution_count": null,
   "id": "cf5d2f63",
   "metadata": {},
   "outputs": [],
   "source": []
  }
 ],
 "metadata": {
  "kernelspec": {
   "display_name": "venv",
   "language": "python",
   "name": "python3"
  },
  "language_info": {
   "codemirror_mode": {
    "name": "ipython",
    "version": 3
   },
   "file_extension": ".py",
   "mimetype": "text/x-python",
   "name": "python",
   "nbconvert_exporter": "python",
   "pygments_lexer": "ipython3",
   "version": "3.9.6"
  }
 },
 "nbformat": 4,
 "nbformat_minor": 5
}
